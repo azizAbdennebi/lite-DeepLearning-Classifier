{
 "cells": [
  {
   "attachments": {},
   "cell_type": "markdown",
   "metadata": {},
   "source": [
    "Imports"
   ]
  },
  {
   "cell_type": "code",
   "execution_count": 18,
   "metadata": {},
   "outputs": [],
   "source": [
    "from tensorflow import keras\n",
    "import tensorflow as tf\n",
    "from keras import layers\n",
    "from keras.datasets.cifar import load_batch\n",
    "from keras import backend\n",
    "import numpy as np\n",
    "import os\n"
   ]
  },
  {
   "cell_type": "markdown",
   "metadata": {},
   "source": [
    "#Dataset Load"
   ]
  },
  {
   "cell_type": "code",
   "execution_count": 19,
   "metadata": {},
   "outputs": [
    {
     "name": "stdout",
     "output_type": "stream",
     "text": [
      "(50000, 32, 32, 3) (10000, 32, 32, 3)\n"
     ]
    }
   ],
   "source": [
    "path = \"datasets\"\n",
    "num_train_samples = 50000\n",
    "x_train = np.empty((num_train_samples, 3, 32, 32), dtype=\"uint8\")\n",
    "y_train = np.empty((num_train_samples,), dtype=\"uint8\")\n",
    "for i in range(1, 6):\n",
    "    fpath = os.path.join(path, \"data_batch_\" + str(i))\n",
    "    (x_train[(i - 1) * 10000 : i * 10000, :, :, :],y_train[(i - 1) * 10000 : i * 10000],) = load_batch(fpath)\n",
    "fpath = os.path.join(path, \"test_batch\")\n",
    "x_test, y_test = load_batch(fpath)\n",
    "y_train = np.reshape(y_train, (len(y_train), 1))\n",
    "y_test = np.reshape(y_test, (len(y_test), 1))\n",
    "if backend.image_data_format() == \"channels_last\":\n",
    "    x_train = x_train.transpose(0, 2, 3, 1)\n",
    "    x_test = x_test.transpose(0, 2, 3, 1)\n",
    "x_test = x_test.astype(x_train.dtype)\n",
    "y_test = y_test.astype(y_train.dtype)\n",
    "print(x_train.shape,x_test.shape)\n",
    "\n"
   ]
  },
  {
   "attachments": {},
   "cell_type": "markdown",
   "metadata": {},
   "source": [
    "Normalise"
   ]
  },
  {
   "cell_type": "code",
   "execution_count": 20,
   "metadata": {},
   "outputs": [],
   "source": [
    "x_train=x_train.astype('float32') / 255\n",
    "np.transpose(x_train, (0, 2, 3, 1)) # reshape the data to fit the model input\n",
    "x_test=x_test/255.0"
   ]
  },
  {
   "attachments": {},
   "cell_type": "markdown",
   "metadata": {},
   "source": [
    "Model definition"
   ]
  },
  {
   "cell_type": "code",
   "execution_count": 23,
   "metadata": {},
   "outputs": [],
   "source": [
    "model = keras.Sequential()\n",
    "model.add(layers.Conv2D(32, (3, 3), activation='relu', input_shape=(32, 32, 3)))\n",
    "model.add(layers.MaxPooling2D((2, 2)))\n",
    "model.add(layers.Conv2D(64, (3, 3), activation='relu'))\n",
    "model.add(layers.MaxPooling2D((2, 2)))\n",
    "model.add(layers.Conv2D(64, (3, 3), activation='relu'))\n",
    "model.add(layers.Flatten())\n",
    "model.add(layers.Dense(64, activation='relu'))\n",
    "model.add(layers.Dense(1, activation='softmax'))\n",
    "\n",
    "\n",
    "model.compile(optimizer='adam',\n",
    "              loss='categorical_crossentropy',\n",
    "              metrics=['accuracy'])"
   ]
  },
  {
   "cell_type": "code",
   "execution_count": 24,
   "metadata": {},
   "outputs": [
    {
     "name": "stdout",
     "output_type": "stream",
     "text": [
      "Epoch 1/5\n",
      "625/625 [==============================] - 21s 33ms/step - loss: 0.0000e+00 - accuracy: 0.0997 - val_loss: 0.0000e+00 - val_accuracy: 0.1014\n",
      "Epoch 2/5\n",
      "625/625 [==============================] - 19s 30ms/step - loss: 0.0000e+00 - accuracy: 0.0997 - val_loss: 0.0000e+00 - val_accuracy: 0.1014\n",
      "Epoch 3/5\n",
      "625/625 [==============================] - 18s 28ms/step - loss: 0.0000e+00 - accuracy: 0.0997 - val_loss: 0.0000e+00 - val_accuracy: 0.1014\n",
      "Epoch 4/5\n",
      "625/625 [==============================] - 18s 28ms/step - loss: 0.0000e+00 - accuracy: 0.0997 - val_loss: 0.0000e+00 - val_accuracy: 0.1014\n",
      "Epoch 5/5\n",
      "625/625 [==============================] - 17s 28ms/step - loss: 0.0000e+00 - accuracy: 0.0997 - val_loss: 0.0000e+00 - val_accuracy: 0.1014\n"
     ]
    },
    {
     "data": {
      "text/plain": [
       "<keras.callbacks.History at 0x1c540df5ac0>"
      ]
     },
     "execution_count": 24,
     "metadata": {},
     "output_type": "execute_result"
    }
   ],
   "source": [
    "model.fit(x_train, y_train, epochs=5, batch_size=64, validation_split=0.2)"
   ]
  },
  {
   "cell_type": "code",
   "execution_count": 25,
   "metadata": {},
   "outputs": [
    {
     "name": "stderr",
     "output_type": "stream",
     "text": [
      "WARNING:absl:Found untraced functions such as _jit_compiled_convolution_op, _jit_compiled_convolution_op, _jit_compiled_convolution_op, _update_step_xla while saving (showing 4 of 4). These functions will not be directly callable after loading.\n"
     ]
    },
    {
     "name": "stdout",
     "output_type": "stream",
     "text": [
      "INFO:tensorflow:Assets written to: saved_model/Classification\\assets\n"
     ]
    },
    {
     "name": "stderr",
     "output_type": "stream",
     "text": [
      "INFO:tensorflow:Assets written to: saved_model/Classification\\assets\n"
     ]
    }
   ],
   "source": [
    "model.save('saved_model/Classification')"
   ]
  }
 ],
 "metadata": {
  "kernelspec": {
   "display_name": "base",
   "language": "python",
   "name": "python3"
  },
  "language_info": {
   "codemirror_mode": {
    "name": "ipython",
    "version": 3
   },
   "file_extension": ".py",
   "mimetype": "text/x-python",
   "name": "python",
   "nbconvert_exporter": "python",
   "pygments_lexer": "ipython3",
   "version": "3.9.13"
  },
  "orig_nbformat": 4,
  "vscode": {
   "interpreter": {
    "hash": "2335ca06cc6bd3f63d9da4b9cc9a3ea88e584b2c3e2f7f1abd068a43d0a897b7"
   }
  }
 },
 "nbformat": 4,
 "nbformat_minor": 2
}

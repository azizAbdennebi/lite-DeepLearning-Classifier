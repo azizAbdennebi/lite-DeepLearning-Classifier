{
 "cells": [
  {
   "attachments": {},
   "cell_type": "markdown",
   "metadata": {},
   "source": [
    "Imports"
   ]
  },
  {
   "cell_type": "code",
   "execution_count": 11,
   "metadata": {},
   "outputs": [],
   "source": [
    "from tensorflow import keras\n",
    "import tensorflow as tf\n",
    "from keras import layers\n",
    "from keras.datasets.cifar import load_batch\n",
    "from keras import backend\n",
    "import numpy as np\n",
    "import os\n",
    "import datetime\n",
    "from tensorflow.keras import regularizers\n",
    "\n"
   ]
  },
  {
   "cell_type": "markdown",
   "metadata": {},
   "source": [
    "#Dataset Load"
   ]
  },
  {
   "cell_type": "code",
   "execution_count": 12,
   "metadata": {},
   "outputs": [
    {
     "name": "stdout",
     "output_type": "stream",
     "text": [
      "(50000, 32, 32, 3) (10000, 32, 32, 3)\n"
     ]
    }
   ],
   "source": [
    "path = \"datasets\"\n",
    "num_train_samples = 50000\n",
    "x_train = np.empty((num_train_samples, 3, 32, 32), dtype=\"uint8\")\n",
    "y_train = np.empty((num_train_samples,), dtype=\"uint8\")\n",
    "for i in range(1, 6):\n",
    "    fpath = os.path.join(path, \"data_batch_\" + str(i))\n",
    "    (x_train[(i - 1) * 10000 : i * 10000, :, :, :],y_train[(i - 1) * 10000 : i * 10000],) = load_batch(fpath)\n",
    "fpath = os.path.join(path, \"test_batch\")\n",
    "x_test, y_test = load_batch(fpath)\n",
    "y_train = np.reshape(y_train, (len(y_train), 1))\n",
    "y_test = np.reshape(y_test, (len(y_test), 1))\n",
    "if backend.image_data_format() == \"channels_last\":\n",
    "    x_train = x_train.transpose(0, 2, 3, 1)\n",
    "    x_test = x_test.transpose(0, 2, 3, 1)\n",
    "x_test = x_test.astype(x_train.dtype)\n",
    "y_test = y_test.astype(y_train.dtype)\n",
    "print(x_train.shape,x_test.shape)\n",
    "# (x_train, y_train), (x_test, y_test) = keras.datasets.cifar10.load_data()\n"
   ]
  },
  {
   "cell_type": "code",
   "execution_count": 13,
   "metadata": {},
   "outputs": [],
   "source": [
    "num_classes = 10\n",
    "img_rows, img_cols = 32, 32"
   ]
  },
  {
   "attachments": {},
   "cell_type": "markdown",
   "metadata": {},
   "source": [
    "Normalise"
   ]
  },
  {
   "cell_type": "code",
   "execution_count": 14,
   "metadata": {},
   "outputs": [],
   "source": [
    "x_train = x_train.astype(\"float32\") / 255.0\n",
    "x_test = x_test.astype(\"float32\") / 255.0"
   ]
  },
  {
   "cell_type": "code",
   "execution_count": 15,
   "metadata": {},
   "outputs": [],
   "source": [
    "y_train = keras.utils.to_categorical(y_train, num_classes)\n",
    "y_test = keras.utils.to_categorical(y_test, num_classes)"
   ]
  },
  {
   "attachments": {},
   "cell_type": "markdown",
   "metadata": {},
   "source": [
    "Model definition"
   ]
  },
  {
   "cell_type": "code",
   "execution_count": 16,
   "metadata": {},
   "outputs": [],
   "source": [
    "model = tf.keras.Sequential()\n",
    "model.add(tf.keras.layers.Conv2D(32, (3, 3), activation=\"relu\",\n",
    "          input_shape=(img_rows, img_cols, 3)))\n",
    "model.add(tf.keras.layers.MaxPooling2D((2, 2)))\n",
    "model.add(tf.keras.layers.Conv2D(64, (3, 3), activation=\"relu\"))\n",
    "model.add(tf.keras.layers.MaxPooling2D((2, 2)))\n",
    "model.add(tf.keras.layers.Conv2D(64, (3, 3), activation=\"relu\",\n",
    "          kernel_regularizer=regularizers.l2(0.001)))\n",
    "model.add(tf.keras.layers.MaxPooling2D((2, 2)))\n",
    "model.add(tf.keras.layers.ZeroPadding2D(padding=((1, 1), (1, 1))))\n",
    "model.add(tf.keras.layers.Conv2D(128, (3, 3), activation=\"relu\",\n",
    "          kernel_regularizer=regularizers.l2(0.001)))\n",
    "model.add(tf.keras.layers.Dropout(0.3))\n",
    "model.add(tf.keras.layers.Flatten())\n",
    "model.add(tf.keras.layers.Dropout(0.3))\n",
    "model.add(tf.keras.layers.Dense(128, activation=\"relu\"))\n",
    "model.add(tf.keras.layers.Dense(64, activation=\"relu\"))\n",
    "model.add(tf.keras.layers.Dense(num_classes, activation=\"softmax\"))\n",
    "\n",
    "\n",
    "model.compile(optimizer='adam',\n",
    "              loss='categorical_crossentropy',\n",
    "              metrics=['accuracy'])\n",
    "log_dir = \"logs/fit/\" + datetime.datetime.now().strftime(\"%Y%m%d-%H%M%S\")\n",
    "tensorboard_callback = tf.keras.callbacks.TensorBoard(\n",
    "    log_dir=log_dir, histogram_freq=1)\n"
   ]
  },
  {
   "cell_type": "code",
   "execution_count": 17,
   "metadata": {},
   "outputs": [
    {
     "name": "stdout",
     "output_type": "stream",
     "text": [
      "The tensorboard extension is already loaded. To reload it, use:\n",
      "  %reload_ext tensorboard\n"
     ]
    }
   ],
   "source": [
    "# Load the TensorBoard notebook extension\n",
    "%load_ext tensorboard\n"
   ]
  },
  {
   "cell_type": "code",
   "execution_count": 18,
   "metadata": {},
   "outputs": [
    {
     "name": "stdout",
     "output_type": "stream",
     "text": [
      "Epoch 1/25\n",
      "782/782 [==============================] - 26s 32ms/step - loss: 1.7855 - accuracy: 0.3444 - val_loss: 1.4331 - val_accuracy: 0.5024\n",
      "Epoch 2/25\n",
      "782/782 [==============================] - 23s 29ms/step - loss: 1.3831 - accuracy: 0.5184 - val_loss: 1.3267 - val_accuracy: 0.5405\n",
      "Epoch 3/25\n",
      "782/782 [==============================] - 23s 29ms/step - loss: 1.2305 - accuracy: 0.5851 - val_loss: 1.2400 - val_accuracy: 0.5797\n",
      "Epoch 4/25\n",
      "782/782 [==============================] - 22s 29ms/step - loss: 1.1291 - accuracy: 0.6281 - val_loss: 1.1442 - val_accuracy: 0.6171\n",
      "Epoch 5/25\n",
      "782/782 [==============================] - 23s 29ms/step - loss: 1.0569 - accuracy: 0.6563 - val_loss: 1.1325 - val_accuracy: 0.6250\n",
      "Epoch 6/25\n",
      "782/782 [==============================] - 22s 29ms/step - loss: 1.0092 - accuracy: 0.6787 - val_loss: 1.0565 - val_accuracy: 0.6627\n",
      "Epoch 7/25\n",
      "782/782 [==============================] - 22s 28ms/step - loss: 0.9742 - accuracy: 0.6926 - val_loss: 1.0122 - val_accuracy: 0.6800\n",
      "Epoch 8/25\n",
      "782/782 [==============================] - 22s 28ms/step - loss: 0.9331 - accuracy: 0.7108 - val_loss: 0.9463 - val_accuracy: 0.7056\n",
      "Epoch 9/25\n",
      "782/782 [==============================] - 23s 29ms/step - loss: 0.9083 - accuracy: 0.7205 - val_loss: 1.0014 - val_accuracy: 0.6878\n",
      "Epoch 10/25\n",
      "782/782 [==============================] - 23s 29ms/step - loss: 0.8853 - accuracy: 0.7289 - val_loss: 0.9330 - val_accuracy: 0.7155\n",
      "Epoch 11/25\n",
      "782/782 [==============================] - 23s 29ms/step - loss: 0.8666 - accuracy: 0.7370 - val_loss: 0.9380 - val_accuracy: 0.7156\n",
      "Epoch 12/25\n",
      "782/782 [==============================] - 23s 29ms/step - loss: 0.8479 - accuracy: 0.7441 - val_loss: 1.0033 - val_accuracy: 0.6932\n",
      "Epoch 13/25\n",
      "782/782 [==============================] - 23s 30ms/step - loss: 0.8377 - accuracy: 0.7499 - val_loss: 0.9653 - val_accuracy: 0.7095\n",
      "Epoch 14/25\n",
      "782/782 [==============================] - 24s 30ms/step - loss: 0.8207 - accuracy: 0.7564 - val_loss: 0.9885 - val_accuracy: 0.7058\n",
      "Epoch 15/25\n",
      "782/782 [==============================] - 23s 30ms/step - loss: 0.8062 - accuracy: 0.7625 - val_loss: 0.9163 - val_accuracy: 0.7315\n",
      "Epoch 16/25\n",
      "782/782 [==============================] - 24s 31ms/step - loss: 0.7995 - accuracy: 0.7651 - val_loss: 0.9450 - val_accuracy: 0.7228\n",
      "Epoch 17/25\n",
      "782/782 [==============================] - 23s 29ms/step - loss: 0.7831 - accuracy: 0.7719 - val_loss: 0.9407 - val_accuracy: 0.7298\n",
      "Epoch 18/25\n",
      "782/782 [==============================] - 23s 30ms/step - loss: 0.7779 - accuracy: 0.7731 - val_loss: 0.9308 - val_accuracy: 0.7300\n",
      "Epoch 19/25\n",
      "782/782 [==============================] - 24s 30ms/step - loss: 0.7683 - accuracy: 0.7797 - val_loss: 0.9668 - val_accuracy: 0.7173\n",
      "Epoch 20/25\n",
      "782/782 [==============================] - 24s 31ms/step - loss: 0.7566 - accuracy: 0.7827 - val_loss: 0.9448 - val_accuracy: 0.7201\n",
      "Epoch 21/25\n",
      "782/782 [==============================] - 23s 30ms/step - loss: 0.7494 - accuracy: 0.7853 - val_loss: 0.9681 - val_accuracy: 0.7279\n",
      "Epoch 22/25\n",
      "782/782 [==============================] - 23s 29ms/step - loss: 0.7382 - accuracy: 0.7898 - val_loss: 0.9330 - val_accuracy: 0.7353\n",
      "Epoch 23/25\n",
      "782/782 [==============================] - 23s 29ms/step - loss: 0.7424 - accuracy: 0.7885 - val_loss: 0.9203 - val_accuracy: 0.7346\n",
      "Epoch 24/25\n",
      "782/782 [==============================] - 23s 29ms/step - loss: 0.7280 - accuracy: 0.7941 - val_loss: 0.9200 - val_accuracy: 0.7347\n",
      "Epoch 25/25\n",
      "782/782 [==============================] - 22s 29ms/step - loss: 0.7244 - accuracy: 0.7947 - val_loss: 0.9153 - val_accuracy: 0.7429\n"
     ]
    },
    {
     "data": {
      "text/plain": [
       "<keras.callbacks.History at 0x1d983c4d610>"
      ]
     },
     "execution_count": 18,
     "metadata": {},
     "output_type": "execute_result"
    }
   ],
   "source": [
    "model.fit(x_train, y_train, epochs=25, batch_size=64,\n",
    "          validation_data=(x_test, y_test), \n",
    "          callbacks=[tensorboard_callback])"
   ]
  },
  {
   "cell_type": "code",
   "execution_count": 19,
   "metadata": {},
   "outputs": [
    {
     "data": {
      "text/html": [
       "\n",
       "      <iframe id=\"tensorboard-frame-de84d828222b2e1c\" width=\"100%\" height=\"800\" frameborder=\"0\">\n",
       "      </iframe>\n",
       "      <script>\n",
       "        (function() {\n",
       "          const frame = document.getElementById(\"tensorboard-frame-de84d828222b2e1c\");\n",
       "          const url = new URL(\"http://localhost\");\n",
       "          const port = 6006;\n",
       "          if (port) {\n",
       "            url.port = port;\n",
       "          }\n",
       "          frame.src = url;\n",
       "        })();\n",
       "      </script>\n",
       "    "
      ],
      "text/plain": [
       "<IPython.core.display.HTML object>"
      ]
     },
     "metadata": {},
     "output_type": "display_data"
    }
   ],
   "source": [
    "%tensorboard --logdir logs/fit"
   ]
  },
  {
   "attachments": {},
   "cell_type": "markdown",
   "metadata": {},
   "source": [
    "# evaluate the model"
   ]
  },
  {
   "cell_type": "code",
   "execution_count": 20,
   "metadata": {},
   "outputs": [
    {
     "name": "stdout",
     "output_type": "stream",
     "text": [
      "313/313 - 2s - loss: 0.9153 - accuracy: 0.7429 - 2s/epoch - 6ms/step\n",
      "Test accuracy: 0.742900013923645\n"
     ]
    }
   ],
   "source": [
    "test_loss, test_acc = model.evaluate(x_test, y_test, verbose=2)\n",
    "print(\"Test accuracy:\", test_acc)"
   ]
  },
  {
   "cell_type": "code",
   "execution_count": 21,
   "metadata": {},
   "outputs": [
    {
     "name": "stdout",
     "output_type": "stream",
     "text": [
      "313/313 [==============================] - 2s 6ms/step\n",
      "Bias squared: 3.1443736e-22\n",
      "Variance: 0.09\n"
     ]
    }
   ],
   "source": [
    "model_predictions = model.predict(x_test)\n",
    "\n",
    "# Compute the mean of the validation set labels\n",
    "mean_val_labels = np.mean(y_test)\n",
    "\n",
    "# Compute the total variance of the validation set\n",
    "total_variance = np.mean(np.square(y_test - mean_val_labels))\n",
    "\n",
    "# Compute the bias squared\n",
    "bias_squared = np.square(np.mean(y_test - model_predictions))\n",
    "\n",
    "# Compute the variance of the model predictions\n",
    "variance = total_variance - bias_squared\n",
    "\n",
    "print(\"Bias squared:\", bias_squared)\n",
    "print(\"Variance:\", variance)"
   ]
  },
  {
   "attachments": {},
   "cell_type": "markdown",
   "metadata": {},
   "source": [
    "Saving the Keras model"
   ]
  },
  {
   "cell_type": "code",
   "execution_count": 22,
   "metadata": {},
   "outputs": [
    {
     "name": "stderr",
     "output_type": "stream",
     "text": [
      "WARNING:absl:Found untraced functions such as _jit_compiled_convolution_op, _jit_compiled_convolution_op, _jit_compiled_convolution_op, _jit_compiled_convolution_op, _update_step_xla while saving (showing 5 of 5). These functions will not be directly callable after loading.\n"
     ]
    },
    {
     "name": "stdout",
     "output_type": "stream",
     "text": [
      "INFO:tensorflow:Assets written to: saved_model/Classification\\assets\n"
     ]
    },
    {
     "name": "stderr",
     "output_type": "stream",
     "text": [
      "INFO:tensorflow:Assets written to: saved_model/Classification\\assets\n"
     ]
    }
   ],
   "source": [
    "model.save('saved_model/Classification')\n",
    "\n",
    "\n"
   ]
  },
  {
   "attachments": {},
   "cell_type": "markdown",
   "metadata": {},
   "source": [
    "converting and saving the Lite version of the Model  "
   ]
  },
  {
   "cell_type": "code",
   "execution_count": 23,
   "metadata": {},
   "outputs": [
    {
     "name": "stderr",
     "output_type": "stream",
     "text": [
      "WARNING:absl:Found untraced functions such as _jit_compiled_convolution_op, _jit_compiled_convolution_op, _jit_compiled_convolution_op, _jit_compiled_convolution_op, _update_step_xla while saving (showing 5 of 5). These functions will not be directly callable after loading.\n"
     ]
    },
    {
     "name": "stdout",
     "output_type": "stream",
     "text": [
      "INFO:tensorflow:Assets written to: C:\\Users\\zizou\\AppData\\Local\\Temp\\tmp4qashltr\\assets\n"
     ]
    },
    {
     "name": "stderr",
     "output_type": "stream",
     "text": [
      "INFO:tensorflow:Assets written to: C:\\Users\\zizou\\AppData\\Local\\Temp\\tmp4qashltr\\assets\n"
     ]
    }
   ],
   "source": [
    "converter = tf.lite.TFLiteConverter.from_keras_model(model)\n",
    "tflite_model = converter.convert()\n",
    "with open('saved_model/LiteModel.tflite', 'wb') as f:\n",
    "    f.write(tflite_model)"
   ]
  }
 ],
 "metadata": {
  "kernelspec": {
   "display_name": "base",
   "language": "python",
   "name": "python3"
  },
  "language_info": {
   "codemirror_mode": {
    "name": "ipython",
    "version": 3
   },
   "file_extension": ".py",
   "mimetype": "text/x-python",
   "name": "python",
   "nbconvert_exporter": "python",
   "pygments_lexer": "ipython3",
   "version": "3.9.13"
  },
  "orig_nbformat": 4,
  "vscode": {
   "interpreter": {
    "hash": "2335ca06cc6bd3f63d9da4b9cc9a3ea88e584b2c3e2f7f1abd068a43d0a897b7"
   }
  }
 },
 "nbformat": 4,
 "nbformat_minor": 2
}

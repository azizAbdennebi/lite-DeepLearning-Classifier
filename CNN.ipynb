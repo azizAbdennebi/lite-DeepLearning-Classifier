{
 "cells": [
  {
   "attachments": {},
   "cell_type": "markdown",
   "metadata": {},
   "source": [
    "Imports"
   ]
  },
  {
   "cell_type": "code",
   "execution_count": 35,
   "metadata": {},
   "outputs": [],
   "source": [
    "from tensorflow import keras\n",
    "import tensorflow as tf\n",
    "from keras import layers\n",
    "from keras.datasets.cifar import load_batch\n",
    "from keras import backend\n",
    "import numpy as np\n",
    "import os\n"
   ]
  },
  {
   "cell_type": "markdown",
   "metadata": {},
   "source": [
    "#Dataset Load"
   ]
  },
  {
   "cell_type": "code",
   "execution_count": 36,
   "metadata": {},
   "outputs": [
    {
     "name": "stdout",
     "output_type": "stream",
     "text": [
      "(50000, 32, 32, 3) (10000, 32, 32, 3)\n"
     ]
    }
   ],
   "source": [
    "path = \"datasets\"\n",
    "num_train_samples = 50000\n",
    "x_train = np.empty((num_train_samples, 3, 32, 32), dtype=\"uint8\")\n",
    "y_train = np.empty((num_train_samples,), dtype=\"uint8\")\n",
    "for i in range(1, 6):\n",
    "    fpath = os.path.join(path, \"data_batch_\" + str(i))\n",
    "    (x_train[(i - 1) * 10000 : i * 10000, :, :, :],y_train[(i - 1) * 10000 : i * 10000],) = load_batch(fpath)\n",
    "fpath = os.path.join(path, \"test_batch\")\n",
    "x_test, y_test = load_batch(fpath)\n",
    "y_train = np.reshape(y_train, (len(y_train), 1))\n",
    "y_test = np.reshape(y_test, (len(y_test), 1))\n",
    "if backend.image_data_format() == \"channels_last\":\n",
    "    x_train = x_train.transpose(0, 2, 3, 1)\n",
    "    x_test = x_test.transpose(0, 2, 3, 1)\n",
    "x_test = x_test.astype(x_train.dtype)\n",
    "y_test = y_test.astype(y_train.dtype)\n",
    "print(x_train.shape,x_test.shape)\n",
    "# (x_train, y_train), (x_test, y_test) = keras.datasets.cifar10.load_data()\n"
   ]
  },
  {
   "cell_type": "code",
   "execution_count": 37,
   "metadata": {},
   "outputs": [],
   "source": [
    "num_classes = 10\n",
    "img_rows, img_cols = 32, 32"
   ]
  },
  {
   "attachments": {},
   "cell_type": "markdown",
   "metadata": {},
   "source": [
    "Normalise"
   ]
  },
  {
   "cell_type": "code",
   "execution_count": 38,
   "metadata": {},
   "outputs": [],
   "source": [
    "x_train = x_train.astype(\"float32\") / 255.0\n",
    "x_test = x_test.astype(\"float32\") / 255.0"
   ]
  },
  {
   "cell_type": "code",
   "execution_count": 39,
   "metadata": {},
   "outputs": [],
   "source": [
    "y_train = keras.utils.to_categorical(y_train, num_classes)\n",
    "y_test = keras.utils.to_categorical(y_test, num_classes)"
   ]
  },
  {
   "attachments": {},
   "cell_type": "markdown",
   "metadata": {},
   "source": [
    "Model definition"
   ]
  },
  {
   "cell_type": "code",
   "execution_count": 40,
   "metadata": {},
   "outputs": [],
   "source": [
    "model = keras.Sequential()\n",
    "model.add(layers.Conv2D(32, (3, 3), activation=\"relu\", input_shape=(img_rows, img_cols, 3)))\n",
    "model.add(layers.MaxPooling2D((2, 2)))\n",
    "model.add(layers.Conv2D(64, (3, 3), activation=\"relu\"))\n",
    "model.add(layers.MaxPooling2D((2, 2)))\n",
    "model.add(layers.Conv2D(64, (3, 3), activation=\"relu\"))\n",
    "model.add(tf.keras.layers.Dropout(0.3))\n",
    "model.add(layers.Flatten())\n",
    "model.add(tf.keras.layers.Dropout(0.3))\n",
    "model.add(layers.Dense(64, activation=\"relu\"))\n",
    "model.add(layers.Dense(num_classes, activation=\"softmax\"))\n",
    "\n",
    "\n",
    "model.compile(optimizer='adam',\n",
    "              loss='categorical_crossentropy',\n",
    "              metrics=['accuracy'])"
   ]
  },
  {
   "cell_type": "code",
   "execution_count": 41,
   "metadata": {},
   "outputs": [
    {
     "name": "stdout",
     "output_type": "stream",
     "text": [
      "Epoch 1/15\n",
      "782/782 [==============================] - 22s 27ms/step - loss: 1.6539 - accuracy: 0.3886\n",
      "Epoch 2/15\n",
      "782/782 [==============================] - 20s 26ms/step - loss: 1.3087 - accuracy: 0.5297\n",
      "Epoch 3/15\n",
      "782/782 [==============================] - 23s 29ms/step - loss: 1.1851 - accuracy: 0.5774\n",
      "Epoch 4/15\n",
      "782/782 [==============================] - 22s 28ms/step - loss: 1.1016 - accuracy: 0.6090\n",
      "Epoch 5/15\n",
      "782/782 [==============================] - 21s 27ms/step - loss: 1.0470 - accuracy: 0.6280\n",
      "Epoch 6/15\n",
      "782/782 [==============================] - 21s 27ms/step - loss: 0.9987 - accuracy: 0.6447\n",
      "Epoch 7/15\n",
      "782/782 [==============================] - 21s 27ms/step - loss: 0.9552 - accuracy: 0.6621\n",
      "Epoch 8/15\n",
      "782/782 [==============================] - 21s 27ms/step - loss: 0.9197 - accuracy: 0.6764\n",
      "Epoch 9/15\n",
      "782/782 [==============================] - 23s 30ms/step - loss: 0.8920 - accuracy: 0.6842\n",
      "Epoch 10/15\n",
      "782/782 [==============================] - 24s 31ms/step - loss: 0.8646 - accuracy: 0.6936\n",
      "Epoch 11/15\n",
      "782/782 [==============================] - 23s 29ms/step - loss: 0.8436 - accuracy: 0.7025\n",
      "Epoch 12/15\n",
      "782/782 [==============================] - 23s 29ms/step - loss: 0.8235 - accuracy: 0.7094\n",
      "Epoch 13/15\n",
      "782/782 [==============================] - 23s 29ms/step - loss: 0.8021 - accuracy: 0.7156\n",
      "Epoch 14/15\n",
      "782/782 [==============================] - 23s 29ms/step - loss: 0.7842 - accuracy: 0.7255\n",
      "Epoch 15/15\n",
      "782/782 [==============================] - 24s 31ms/step - loss: 0.7743 - accuracy: 0.7277\n"
     ]
    },
    {
     "data": {
      "text/plain": [
       "<keras.callbacks.History at 0x16a388edd30>"
      ]
     },
     "execution_count": 41,
     "metadata": {},
     "output_type": "execute_result"
    }
   ],
   "source": [
    "model.fit(x_train, y_train, epochs=15, batch_size=64)"
   ]
  },
  {
   "attachments": {},
   "cell_type": "markdown",
   "metadata": {},
   "source": [
    "# evaluate the model"
   ]
  },
  {
   "cell_type": "code",
   "execution_count": 42,
   "metadata": {},
   "outputs": [
    {
     "name": "stdout",
     "output_type": "stream",
     "text": [
      "313/313 - 2s - loss: 0.7606 - accuracy: 0.7370 - 2s/epoch - 6ms/step\n",
      "Test accuracy: 0.7369999885559082\n"
     ]
    }
   ],
   "source": [
    "test_loss, test_acc = model.evaluate(x_test, y_test, verbose=2)\n",
    "print(\"Test accuracy:\", test_acc)"
   ]
  },
  {
   "cell_type": "code",
   "execution_count": 43,
   "metadata": {},
   "outputs": [
    {
     "name": "stdout",
     "output_type": "stream",
     "text": [
      "313/313 [==============================] - 2s 6ms/step\n",
      "Bias squared: 8.3709935e-21\n",
      "Variance: 0.09\n"
     ]
    }
   ],
   "source": [
    "model_predictions = model.predict(x_test)\n",
    "\n",
    "# Compute the mean of the validation set labels\n",
    "mean_val_labels = np.mean(y_test)\n",
    "\n",
    "# Compute the total variance of the validation set\n",
    "total_variance = np.mean(np.square(y_test - mean_val_labels))\n",
    "\n",
    "# Compute the bias squared\n",
    "bias_squared = np.square(np.mean(y_test - model_predictions))\n",
    "\n",
    "# Compute the variance of the model predictions\n",
    "variance = total_variance - bias_squared\n",
    "\n",
    "print(\"Bias squared:\", bias_squared)\n",
    "print(\"Variance:\", variance)"
   ]
  },
  {
   "attachments": {},
   "cell_type": "markdown",
   "metadata": {},
   "source": [
    "Saving the Keras model"
   ]
  },
  {
   "cell_type": "code",
   "execution_count": 44,
   "metadata": {},
   "outputs": [
    {
     "name": "stderr",
     "output_type": "stream",
     "text": [
      "WARNING:absl:Found untraced functions such as _jit_compiled_convolution_op, _jit_compiled_convolution_op, _jit_compiled_convolution_op, _update_step_xla while saving (showing 4 of 4). These functions will not be directly callable after loading.\n"
     ]
    },
    {
     "name": "stdout",
     "output_type": "stream",
     "text": [
      "INFO:tensorflow:Assets written to: saved_model/Classification\\assets\n"
     ]
    },
    {
     "name": "stderr",
     "output_type": "stream",
     "text": [
      "INFO:tensorflow:Assets written to: saved_model/Classification\\assets\n"
     ]
    }
   ],
   "source": [
    "model.save('saved_model/Classification')\n",
    "\n",
    "\n"
   ]
  },
  {
   "attachments": {},
   "cell_type": "markdown",
   "metadata": {},
   "source": [
    "converting and saving the Lite version of the Model  "
   ]
  },
  {
   "cell_type": "code",
   "execution_count": 45,
   "metadata": {},
   "outputs": [
    {
     "name": "stderr",
     "output_type": "stream",
     "text": [
      "WARNING:absl:Found untraced functions such as _jit_compiled_convolution_op, _jit_compiled_convolution_op, _jit_compiled_convolution_op, _update_step_xla while saving (showing 4 of 4). These functions will not be directly callable after loading.\n"
     ]
    },
    {
     "name": "stdout",
     "output_type": "stream",
     "text": [
      "INFO:tensorflow:Assets written to: C:\\Users\\zizou\\AppData\\Local\\Temp\\tmpvrv6bnai\\assets\n"
     ]
    },
    {
     "name": "stderr",
     "output_type": "stream",
     "text": [
      "INFO:tensorflow:Assets written to: C:\\Users\\zizou\\AppData\\Local\\Temp\\tmpvrv6bnai\\assets\n"
     ]
    }
   ],
   "source": [
    "converter = tf.lite.TFLiteConverter.from_keras_model(model)\n",
    "tflite_model = converter.convert()\n",
    "with open('saved_model/LiteModel.tflite', 'wb') as f:\n",
    "    f.write(tflite_model)"
   ]
  }
 ],
 "metadata": {
  "kernelspec": {
   "display_name": "base",
   "language": "python",
   "name": "python3"
  },
  "language_info": {
   "codemirror_mode": {
    "name": "ipython",
    "version": 3
   },
   "file_extension": ".py",
   "mimetype": "text/x-python",
   "name": "python",
   "nbconvert_exporter": "python",
   "pygments_lexer": "ipython3",
   "version": "3.9.13"
  },
  "orig_nbformat": 4,
  "vscode": {
   "interpreter": {
    "hash": "2335ca06cc6bd3f63d9da4b9cc9a3ea88e584b2c3e2f7f1abd068a43d0a897b7"
   }
  }
 },
 "nbformat": 4,
 "nbformat_minor": 2
}
